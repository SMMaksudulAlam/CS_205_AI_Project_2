{
  "nbformat": 4,
  "nbformat_minor": 0,
  "metadata": {
    "colab": {
      "provenance": []
    },
    "kernelspec": {
      "name": "python3",
      "display_name": "Python 3"
    },
    "language_info": {
      "name": "python"
    }
  },
  "cells": [
    {
      "cell_type": "code",
      "execution_count": 2,
      "metadata": {
        "id": "c2fNDL58oO0B"
      },
      "outputs": [],
      "source": [
        "import numpy as np\n",
        "import math\n",
        "import random"
      ]
    },
    {
      "cell_type": "code",
      "source": [
        "def means(features):\n",
        "    num_columns = len(features[0])\n",
        "    means = [sum(col) / len(col) for col in zip(*features)]\n",
        "    return means"
      ],
      "metadata": {
        "id": "oMQW1jfHoVbw"
      },
      "execution_count": 3,
      "outputs": []
    },
    {
      "cell_type": "code",
      "source": [
        "def stds(features, means_):\n",
        "    num_columns = len(features[0])\n",
        "    stds_ = []\n",
        "    num_rows = len(features)\n",
        "    for i in range(num_columns):\n",
        "        sum_squared_diff = 0\n",
        "        for j in range(num_rows):\n",
        "            squared_diff = (features[j][i] - means_[i]) ** 2\n",
        "            sum_squared_diff += squared_diff\n",
        "        column_std = math.sqrt(sum_squared_diff / (num_rows- 1))\n",
        "        stds_.append(column_std)\n",
        "    return stds_"
      ],
      "metadata": {
        "id": "Tr-NIyoSoXaA"
      },
      "execution_count": 4,
      "outputs": []
    },
    {
      "cell_type": "code",
      "source": [
        "def normalize(features):\n",
        "    means_ = means(features)\n",
        "    stds_ = stds(features, means_)\n",
        "    num_columns = len(features[0])\n",
        "    num_rows = len(features)\n",
        "    for i in range(num_rows):\n",
        "        for j in range(num_columns):\n",
        "            features[i][j] = (features[i][j] - means_[j]) / stds_[j]\n",
        "    return features"
      ],
      "metadata": {
        "id": "P1qn4VFFobUD"
      },
      "execution_count": 5,
      "outputs": []
    },
    {
      "cell_type": "code",
      "source": [
        "def euclidean_distance(sample1, sample2, feats):\n",
        "    e_dist = 0\n",
        "    for f in feats:\n",
        "        e_dist += math.pow((sample1[f] - sample2[f]), 2)\n",
        "    return math.sqrt(e_dist)"
      ],
      "metadata": {
        "id": "RmLBbgM2oeQn"
      },
      "execution_count": 6,
      "outputs": []
    },
    {
      "cell_type": "code",
      "source": [
        "def nearest_N(train, test, feats):\n",
        "    distances = []\n",
        "    for sample_t in train:\n",
        "        e_dist = euclidean_distance(sample_t, test, feats)\n",
        "        distances.append([e_dist, sample_t[0]])\n",
        "    distances = sorted(distances, key=lambda x: x[0])\n",
        "    return distances[0][1]"
      ],
      "metadata": {
        "id": "DdExg1s9ofNO"
      },
      "execution_count": 7,
      "outputs": []
    },
    {
      "cell_type": "code",
      "source": [
        "def accuracy(dataset, features, k):\n",
        "    count = 0\n",
        "    total = 0\n",
        "    curr_feats = features[:]\n",
        "    n = len(dataset)//k\n",
        "    for i in range(k):\n",
        "        test = dataset[i*n:(i+1)*n]\n",
        "        train = dataset[:i*n] + dataset[(i+1)*n:]\n",
        "        for t in (test):\n",
        "            cls = nearest_N(train, t, curr_feats)\n",
        "            total += 1\n",
        "            if (cls == t[0]):\n",
        "                count += 1\n",
        "    acc = float(count) / total\n",
        "    return acc"
      ],
      "metadata": {
        "id": "aNJSXyfnohcH"
      },
      "execution_count": 8,
      "outputs": []
    },
    {
      "cell_type": "code",
      "source": [
        "def forward_selection(dataset, selected_features, final_features, final_acc, k):\n",
        "    if(len(selected_features) == len(dataset[0]) - 1):\n",
        "        return final_features, final_acc\n",
        "    num_features = len(dataset[0])\n",
        "    selected_features = selected_features[:]\n",
        "    acc = 0\n",
        "    current_features = []\n",
        "    print('selected features:', selected_features)\n",
        "    print('finalized features:', final_features)\n",
        "    print('final accuracy:', round(final_acc*100, 1),'%')\n",
        "    for n in range(1, num_features):\n",
        "        prev_features = selected_features[:]\n",
        "        if n not in selected_features:\n",
        "            prev_features.append(n)\n",
        "            acc = accuracy(dataset, prev_features, k)\n",
        "            temp = []\n",
        "            temp.append(acc)\n",
        "            temp.append(n)\n",
        "            current_features.append(temp)\n",
        "            print('for feature', n,'=> the accuracy is:', round(acc*100, 1),'%')\n",
        "    current_features = sorted(current_features, key=lambda x: x[0], reverse=True)\n",
        "    #print(current_features[0][1])\n",
        "    selected_features.append(current_features[0][1])\n",
        "    acc = current_features[0][0]\n",
        "    if(acc>final_acc):\n",
        "        final_features.append(current_features[0][1])\n",
        "        final_acc = acc\n",
        "    #print(selected_features, final_features, final_acc)\n",
        "    return forward_selection(dataset, selected_features, final_features, final_acc, k)"
      ],
      "metadata": {
        "id": "K3ID4DPuBbPu"
      },
      "execution_count": 9,
      "outputs": []
    },
    {
      "cell_type": "code",
      "source": [
        "def backward_elimination_(dataset, selected_features, final_features, final_acc, k):\n",
        "    if(len(selected_features) == 0):\n",
        "        return final_features, final_acc\n",
        "    num_features = len(dataset[0])\n",
        "    selected_features = selected_features[:]\n",
        "    acc = 0\n",
        "    current_features = []\n",
        "    print('selected features:', selected_features)\n",
        "    print('finalized features:', final_features)\n",
        "    print('final accuracy:', round(final_acc*100, 1),'%')\n",
        "    for n in range(1, num_features):\n",
        "        prev_features = selected_features[:]\n",
        "        if n in selected_features:\n",
        "            prev_features.remove(n)\n",
        "            acc = accuracy_(dataset, prev_features, k)\n",
        "            temp = []\n",
        "            temp.append(acc)\n",
        "            temp.append(n)\n",
        "            current_features.append(temp)\n",
        "            print('for feature', n,'=> the accuracy is:', round(acc*100, 1),'%')\n",
        "    current_features = sorted(current_features, key=lambda x: x[0], reverse=True)\n",
        "    #print(current_features[0][1])\n",
        "    selected_features.remove(current_features[0][1])\n",
        "    acc = current_features[0][0]\n",
        "    if(acc>final_acc):\n",
        "        final_features.remove(current_features[0][1])\n",
        "        final_acc = acc\n",
        "    #print(selected_features, final_features, final_acc)\n",
        "    return backward_elimination_(dataset, selected_features, final_features, final_acc, k)"
      ],
      "metadata": {
        "id": "LRshTcWuCDPh"
      },
      "execution_count": null,
      "outputs": []
    }
  ]
}